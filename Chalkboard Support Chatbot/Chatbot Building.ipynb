{
 "cells": [
  {
   "cell_type": "code",
   "execution_count": 2,
   "metadata": {},
   "outputs": [],
   "source": [
    "import nltk\n",
    "import numpy as np\n",
    "import random\n",
    "import string\n",
    "from sklearn.feature_extraction.text import TfidfVectorizer\n",
    "from sklearn.metrics.pairwise import cosine_similarity"
   ]
  },
  {
   "cell_type": "code",
   "execution_count": 3,
   "metadata": {},
   "outputs": [],
   "source": [
    "f=open('chatbot.txt','r',errors = 'ignore')"
   ]
  },
  {
   "cell_type": "code",
   "execution_count": null,
   "metadata": {},
   "outputs": [],
   "source": [
    "raw = f.read()"
   ]
  },
  {
   "cell_type": "code",
   "execution_count": 5,
   "metadata": {
    "collapsed": true
   },
   "outputs": [
    {
     "data": {
      "text/plain": [
       "'\\nchatbot\\nfrom wikipedia, the free encyclopedia\\njump to navigationjump to search\\na chatbot (also known as a smartbots, talkbot, chatterbot, bot, im bot, interactive agent, conversational interface or artificial conversational entity) is a computer program or an artificial intelligence which conducts a conversation via auditory or textual methods.[1] such programs are often designed to convincingly simulate how a human would behave as a conversational partner, thereby passing the turing test. chatbots are typically used in dialog systems for various practical purposes including customer service or information acquisition. some chatterbots use sophisticated natural language processing systems, but many simpler systems scan for keywords within the input, then pull a reply with the most matching keywords, or the most similar wording pattern, from a database.\\n\\nthe term \"chatterbot\" was originally coined by michael mauldin (creator of the first verbot, julia) in 1994 to describe these conversational programs.[2] today, most chatbots are either accessed via virtual assistants such as google assistant and amazon alexa, via messaging apps such as facebook messenger or wechat, or via individual organizations\\' apps and websites.[3][4] chatbots can be classified into usage categories such as conversational commerce (e-commerce via chat), analytics, communication, customer support, design, developer tools, education, entertainment, finance, food, games, health, hr, marketing, news, personal, productivity, shopping, social, sports, travel and utilities.[5]\\n\\n\\ncontents\\n1\\tbackground\\n2\\tdevelopment\\n3\\tapplication\\n3.1\\tmessaging apps\\n3.1.1\\tas part of company apps and websites\\n3.2\\tcompany internal platforms\\n3.3\\ttoys\\n4\\tchatbot creation\\n4.1\\tdesign\\n4.2\\tbuilding\\n4.3\\tanalytics\\n4.4\\tmaintenance\\n4.5\\tchatbot development platforms\\n4.6\\tapis\\n5\\tmalicious use\\n6\\tsee also\\n7\\tcitations\\n8\\treferences\\nbackground\\nin 1950, alan turing\\'s famous article \"computing machinery and intelligence\" was published,[6] which proposed what is now called the turing test as a criterion of intelligence. this criterion depends on the ability of a computer program to impersonate a human in a real-time written conversation with a human judge, sufficiently well that the judge is unable to distinguish reliably—on the basis of the conversational content alone—between the program and a real human. the notoriety of turing\\'s proposed test stimulated great interest in joseph weizenbaum\\'s program eliza, published in 1966, which seemed to be able to fool users into believing that they were conversing with a real human. however weizenbaum himself did not claim that eliza was genuinely intelligent, and the introduction to his paper presented it more as a debunking exercise:\\n\\n[in] artificial intelligence ... machines are made to behave in wondrous ways, often sufficient to dazzle even the most experienced observer. but once a particular program is unmasked, once its inner workings are explained ... its magic crumbles away; it stands revealed as a mere collection of procedures ... the observer says to himself \"i could have written that\". with that thought he moves the program in question from the shelf marked \"intelligent\", to that reserved for curios ... the object of this paper is to cause just such a re-evaluation of the program about to be \"explained\". few programs ever needed it more.[7]\\n\\neliza\\'s key method of operation (copied by chatbot designers ever since) involves the recognition of cue words or phrases in the input, and the output of corresponding pre-prepared or pre-programmed responses that can move the conversation forward in an apparently meaningful way (e.g. by responding to any input that contains the word \\'mother\\' with \\'tell me more about your family\\').[8] thus an illusion of understanding is generated, even though the processing involved has been merely superficial. eliza showed that such an illusion is surprisingly easy to generate, because human judges are so ready to give the benefit of the doubt when conversational responses are capable of being interpreted as \"intelligent\".\\n\\ninterface designers have come to appreciate that humans\\' readiness to interpret computer output as genuinely conversational—even when it is actually based on rather simple pattern-matching—can be exploited for useful purposes. most people prefer to engage with programs that are human-like, and this gives chatbot-style techniques a potentially useful role in interactive systems that need to elicit information from users, as long as that information is relatively straightforward and falls into predictable categories. thus, for example, online help systems can usefully employ chatbot techniques to identify the area of help that users require, potentially providing a \"friendlier\" interface than a more formal search or menu system. this sort of usage holds the prospect of moving chatbot technology from weizenbaum\\'s \"shelf ... reserved for curios\" to that marked \"genuinely useful computational methods\".\\n\\ndevelopment\\nthe classic historic early chatbots are eliza (1966) and parry (1972).[9][10][11][12] more recent notable programs include a.l.i.c.e., jabberwacky and d.u.d.e (agence nationale de la recherche and cnrs 2006). while eliza and parry were used exclusively to simulate typed conversation, many chatbots now include functional features such as games and web searching abilities. in 1984, a book called the policeman\\'s beard is half constructed was published, allegedly written by the chatbot racter (though the program as released would not have been capable of doing so).[13]\\n\\none pertinent field of ai research is natural language processing. usually, weak ai fields employ specialized software or programming languages created specifically for the narrow function required. for example, a.l.i.c.e. uses a markup language called aiml, which is specific to its function as a conversational agent, and has since been adopted by various other developers of, so called, alicebots. nevertheless, a.l.i.c.e. is still purely based on pattern matching techniques without any reasoning capabilities, the same technique eliza was using back in 1966. this is not strong ai, which would require sapience and logical reasoning abilities.\\n\\njabberwacky learns new responses and context based on real-time user interactions, rather than being driven from a static database. some more recent chatbots also combine real-time learning with evolutionary algorithms that optimise their ability to communicate based on each conversation held. still, there is currently no general purpose conversational artificial intelligence, and some software developers focus on the practical aspect, information retrieval.\\n\\nchatbot competitions focus on the turing test or more specific goals. two such annual contests are the loebner prize and the chatterbox challenge (offline since 2015, materials can still be found from web archives).[14]\\n\\napplication\\nsee also: virtual assistant\\n\\naeromexico airline chatbot running on facebook messenger, march 2018\\nmessaging apps\\nmany companies\\' chatbots run on messaging apps like facebook messenger (since 2016), wechat (since 2013),[15] whatsapp, livechat, kik, slack, line, telegram, or simply via sms. they are used for b2c customer service, sales and marketing.[16]\\n\\nin 2016, facebook messenger allowed developers to place chatbots on their platform. there were 30,000 bots created for messenger in the first six months, rising to 100,000 by september 2017. [17]\\n\\nsince september 2017, this has also been as part of a pilot program on whatsapp. airlines klm and aeroméxico both announced their participation in the testing;[18][19][20][21] both airlines had previously launched customer services on the facebook messenger platform.\\n\\nthe bots usually appear as one of the user\\'s contacts, but can sometimes act as participants in a group chat.\\n\\nmany banks and insurers, media and e-commerce companies, airlines and hotel chains, retailers, health care providers, government entities and restaurant chains have used chatbots to answer simple questions, increase customer engagement,[22] for promotion, and to offer additional ways to order from them.[23][24]\\n\\na 2017 study showed 4% of companies used chatbots.[25] according to a 2016 study, 80% of businesses said they intended to have one by 2020.[26]\\n\\nas part of company apps and websites\\nprevious generations of chatbots were present on company websites, e.g. ask jenn from alaska airlines which debuted in 2008[27] or expedia\\'s virtual customer service agent which launched in 2011.[27][28] the newer generation of chatbots includes ibm watson-powered \"rocky\", introduced in february 2017 by the new york city-based e-commerce company rare carat to provide information to prospective diamond buyers.[29][30]\\n\\ncompany internal platforms\\nother companies explore ways they can use chatbots internally, for example for customer support, human resources, or even in internet-of-things (iot) projects. overstock.com, for one, has reportedly launched a chatbot named mila to automate certain simple yet time-consuming processes when requesting for a sick leave.[31] other large companies such as lloyds banking group, royal bank of scotland, renault and citroën are now using automated online assistants instead of call centres with humans to provide a first point of contact. a saas chatbot business ecosystem has been steadily growing since the f8 conference when zuckerberg unveiled that messenger would allow chatbots into the app.[32]\\n\\ntoys\\nchatbots have also been incorporated into devices not primarily meant for computing such as toys.[33]\\n\\nhello barbie is an internet-connected version of the doll that uses a chatbot provided by the company toytalk,[34] which previously used the chatbot for a range of smartphone-based characters for children.[35] these characters\\' behaviors are constrained by a set of rules that in effect emulate a particular character and produce a storyline.[36]\\n\\nibm\\'s watson computer has been used as the basis for chatbot-based educational toys for companies such as cognitoys[33] intended to interact with children for educational purposes.[37]\\n\\nchatbot creation\\nthe process of creating a chatbot follows a pattern similar to the development of a web page or a mobile app. it can be divided into design, building, analytics and maintenance.[38]\\n\\ndesign\\nthe chatbot design is the process that defines the interaction between the user and the chatbot. the chatbot designer will define the chatbot personality, the questions that will be asked to the users, and the overall interaction.[39][40] it can be viewed as a subset of the conversational design. in order to speed up this process, designers can use dedicated chatbot design tools, that allow for immediate preview, team collaboration and video export.[41] an important part of the chatbot design is also centered around user testing. user testing can be performed following the same principles that guide the user testing of graphical interfaces.[42]\\n\\nbuilding\\nthe process of building a chatbot can be divided into two main tasks: understanding the user\\'s intent and producing the correct answer. the first task involves understanding the user input. in order to properly understand a user input in a free text form, a natural language processing engine can be used.[43] the second task may involve different approaches depending on the type of the response that the chatbot will generate.\\n\\nanalytics\\nthe usage of the chatbot can be monitored in order to spot potential flaws or problems. it can also provide useful insights that can improve the final user experience.[44]\\n\\nmaintenance\\nto keep chatbots up to speed with changing company products and services, traditional chatbot development platforms require ongoing maintenance. this can either be in the form of an ongoing service provider or for larger enterprises in the form of an in-house chatbot training team.[45] to eliminate these costs, some startups are experimenting with artificial intelligence to develop self-learning chatbots, particularly in customer service applications.\\n\\nchatbot development platforms\\nthe process of building, testing and deploying chatbots can be done on cloud based chatbot development platforms[46] offered by cloud platform as a service (paas) providers such as yekaliva, oracle cloud platform, snatchbot[47] and ibm watson.[48][49][50] these cloud platforms provide natural language processing, artificial intelligence and mobile backend as a service for chatbot development.\\n\\napis\\nthere are many apis available for building your own chatbots, such as aarc.[51]\\n\\nmalicious use\\nmalicious chatbots are frequently used to fill chat rooms with spam and advertisements, by mimicking human behaviour and conversations or to entice people into revealing personal information, such as bank account numbers. they are commonly found on yahoo! messenger, windows live messenger, aol instant messenger and other instant messaging protocols. there has also been a published report of a chatbot used in a fake personal ad on a dating service\\'s website.[52]\\n\\nsee also\\neugene goostman\\ninteractive online characters\\nlist of chatterbots\\nsocial bot\\ntwitterbot\\nsitepal\\ntay\\ncitations\\n \"what is a chatbot?\". techtarget.com. retrieved 30 january 2017.\\n mauldin 1994\\n orf, darren. \"google assistant is a mega ai bot that wants to be absoutely everywhere\".\\n \"the 8 best chatbots of 2016\". 21 december 2016.\\n https://recast.ai/blog/2017-messenger-bot-landscape/\\n (turing 1950)\\n (weizenbaum 1966, p. 36)\\n (weizenbaum 1966, pp. 44–5)\\n güzelderefranchi 1995\\n computer history museum 2006\\n sondheim 1997\\n network working group 1973—transcript of a session between parry and eliza. (this is not the dialogue from the iccc, which took place october 24–26, 1972, whereas this session is from september 18, 1972.)\\n www.everything.com 13 november 1999\\n (in german) chatroboter simulieren menschen\\n \"china, wechat, and the origins of chatbots – chatbots magazine\". 12 march 2017. retrieved 2 july 2018.\\n beaver, laurie (july 2016). the chatbots explainer. bi intelligence.\\n \"facebook messenger hits 100,000 bots\". retrieved 2017-09-22.\\n \"klm claims airline first with whatsapp business platform\".\\n staff, forbes (26 october 2017). \"aeroméxico te atenderá por whatsapp durante 2018\". retrieved 2 july 2018.\\n redacción (27 october 2017). \"podrás hacer \\'check in\\' y consultar tu vuelo con aeroméxico a través de whatsapp\". retrieved 2 july 2018 – via huff post.\\n \"building for people, and now businesses\". whatsapp.com. retrieved 2 july 2018.\\n \"she is the company\\'s most effective employee\". nordea news.\\n \"better believe the bot boom is blowing up big for b2b, b2c businesses\". venturebeat.\\n \"chatbots take education to the next level – chatbot news daily\". chatbot news daily. 2016-09-29. retrieved 2017-06-23.\\n \"the ai revolution is underway! – pm360\". www.pm360online.com. retrieved 2 july 2018.\\n \"80% of businesses want chatbots by 2020\". retrieved 2 july 2018.\\n \"a virtual travel agent with all the answers\". the new york times. 4 march 2008.\\n \"chatbot vendor directory released –\". www.hypergridbusiness.com.\\n \"rare carat\\'s watson-powered chatbot will help you put a diamond ring on it\". techcrunch. february 15, 2017.\\n \"10 ways you may have already used ibm watson\". venturebeat. march 10, 2017.\\n greenfield, rebecca. \"chatbots are your newest, dumbest co-workers\". bloomberg.\\n \"facebook opens its messenger platform to chatbots\". 12 april 2016.\\n amy (2015-02-23). \"conversational toys – the latest trend in speech technology\". virtual agent chat. retrieved 2016-08-11.\\n nagy, evie. \"using toytalk technology, new hello barbie will have real conversations with kids\". fast company. retrieved 18 march 2015.\\n oren jacob, the co-founder and ceo of toytalk interviewed on the tv show triangulation on the twit.tv network\\n \"artificial intelligence script tool\".\\n takahashi, dean. \"elemental\\'s smart connected toy taps ibm\\'s watson supercomputer for its brains\". venture beat. retrieved 15 may 2015.\\n \"awesome chatbots tools\".\\n \"how to design a robust chatbot interaction\".\\n \"principles of bot design\".\\n implementations include botsociety botmock and botframe\\n \"how to perform user testing on your chatbot\".\\n implementations include rasa, wit.ai, dialogflow and watson\\n \"what are the most common words your bot receives or sends\".\\n \"how much it costs to make a chatbot\".\\n yuan, michael (2018-02-19). chatbots: building intelligent, cross-platform, messaging bots. pearson education. isbn 9780134650616.\\n \"these chatbot usage metrics will change your customer service strategy\". retrieved 2018-06-19.\\n \"oracle launches a chatbot development platform | venturebeat\". venturebeat.com. retrieved 2017-11-15.\\n \"oracle introduces ai-powered intelligent bots to help enterprises engage customers and employees\". www.oracle.com. retrieved 2017-11-15.\\n \"mobile service | oracle cloud\". cloud.oracle.com. retrieved 2017-11-15.\\n http://aar.center\\n \"from russia with love\" (pdf). retrieved 2007-12-09. psychologist and scientific american: mind contributing editor robert epstein reports how he was initially fooled by a chatterbot posing as an attractive girl in a personal ad he answered on a dating website. in the ad, the girl portrayed herself as being in southern california and then soon revealed, in poor english, that she was actually in russia. he became suspicious after a couple of months of email exchanges, sent her an email test of gibberish, and she still replied in general terms. the dating website is not named. scientific american: mind, october–november 2007, page 16–17, \"from russia with love: how i got fooled (and somewhat humiliated) by a computer\". also available online.\\nreferences\\ncomputer history museum (2006), \"internet history—1970\\'s\", exhibits, computer history museum, archived from the original on 2008-02-21, retrieved 2008-03-05\\ngüzeldere, güven; franchi, stefano (1995-07-24), \"constructions of the mind\", stanford humanities review, sehr, stanford university, 4 (2), retrieved 2008-03-05\\nmauldin, michael (1994), \"chatterbots, tinymuds, and the turing test: entering the loebner prize competition\", proceedings of the eleventh national conference on artificial intelligence, aaai press, retrieved 2008-03-05 (abstract)\\nnetwork working group (1973), \"rfc 439, parry encounters the doctor\", internet engineering task force, internet society, retrieved 2008-03-05\\nsondheim, alan j (1997), <nettime> important documents from the early internet (1972), nettime.org, retrieved 2008-03-05\\nsearle, john (1980), \"minds, brains and programs\", behavioral and brain sciences, 3 (3): 417–457, doi:10.1017/s0140525x00005756\\nshevat, amir (2017). designing bots: creating conversational experiences (first ed.). sebastopol, ca: o\\'reilly media. isbn 9781491974827. oclc 962125282.\\nturing, alan (1950), \"computing machinery and intelligence\", mind, 59: 433–60, doi:10.1093/mind/lix.236.433\\nweizenbaum, joseph (january 1966), \"eliza—a computer program for the study of natural language communication between man and machine\", communications of the acm, 9 (1): 36–45, doi:10.1145/365153.365168\\nvte\\nnatural language processing\\ncategories: chatterbotsinstant messaginginteractive narrativenatural language parsing\\nnavigation menu\\nnot logged intalkcontributionscreate accountlog inarticletalkreadeditview historysearch\\n\\nsearch wikipedia\\nmain page\\ncontents\\nfeatured content\\ncurrent events\\nrandom article\\ndonate to wikipedia\\nwikipedia store\\ninteraction\\nhelp\\nabout wikipedia\\ncommunity portal\\nrecent changes\\ncontact page\\ntools\\nwhat links here\\nrelated changes\\nupload file\\nspecial pages\\npermanent link\\npage information\\nwikidata item\\ncite this page\\nprint/export\\ncreate a book\\ndownload as pdf\\nprintable version\\nin other projects\\nwikimedia commons\\nwikibooks\\n\\nlanguages\\nবাংলা\\ndeutsch\\nespañol\\nfrançais\\nbahasa indonesia\\n日本語\\nportuguês\\nрусский\\n中文\\n20 more\\nedit links\\nthis page was last edited on 7 november 2018, at 16:48 (utc).\\ntext is available under the creative commons attribution-sharealike license; additional terms may apply. by using this site, you agree to the terms of use and privacy policy. wikipedia® is a registered trademark of the wikimedia foundation, inc., a non-profit organization.\\nprivacy policyabout wikipediadisclaimerscontact wikipediadeveloperscookie statementmobile viewwikimedia foundation powered by mediawiki\\n\\n'"
      ]
     },
     "execution_count": 5,
     "metadata": {},
     "output_type": "execute_result"
    }
   ],
   "source": [
    "raw = raw.lower()# converts to lowercase\n",
    "raw"
   ]
  },
  {
   "cell_type": "code",
   "execution_count": 6,
   "metadata": {},
   "outputs": [],
   "source": [
    "sent_tokens = nltk.sent_tokenize(raw) #converts to list of sentences\n",
    "word_tokens = nltk.word_tokenize(raw) #converts to list of words"
   ]
  },
  {
   "cell_type": "code",
   "execution_count": 7,
   "metadata": {},
   "outputs": [
    {
     "data": {
      "text/plain": [
       "'\\nchatbot\\nfrom wikipedia, the free encyclopedia\\njump to navigationjump to search\\na chatbot (also known as a smartbots, talkbot, chatterbot, bot, im bot, interactive agent, conversational interface or artificial conversational entity) is a computer program or an artificial intelligence which conducts a conversation via auditory or textual methods.'"
      ]
     },
     "execution_count": 7,
     "metadata": {},
     "output_type": "execute_result"
    }
   ],
   "source": [
    "sent_tokens[0]"
   ]
  },
  {
   "cell_type": "code",
   "execution_count": 8,
   "metadata": {},
   "outputs": [
    {
     "data": {
      "text/plain": [
       "'wikipedia'"
      ]
     },
     "execution_count": 8,
     "metadata": {},
     "output_type": "execute_result"
    }
   ],
   "source": [
    "word_tokens[2]"
   ]
  },
  {
   "cell_type": "code",
   "execution_count": 9,
   "metadata": {},
   "outputs": [],
   "source": [
    "lemmer = nltk.stem.WordNetLemmatizer()\n",
    "\n",
    "def LemTokens(tokens):\n",
    "    return [lemmer.lemmatize(token) for token in tokens]\n",
    "remove_punct_dict = dict((ord(punct), None) for punct in string.punctuation)\n",
    "\n",
    "def LemNormalize(text):\n",
    "    return LemTokens(nltk.word_tokenize(text.lower().translate(remove_punct_dict)))"
   ]
  },
  {
   "cell_type": "code",
   "execution_count": 10,
   "metadata": {},
   "outputs": [],
   "source": [
    "GREETING_INPUTS = (\"hello\", \"hi\", \"greetings\", \"sup\", \"what's up\", \"hey\",)\n",
    "\n",
    "GREETING_RESPONSES = [\"hi\", \"hey\", \"*nods*\", \"hi there\", \"hello\", \"I am glad! You are talking to me\"]\n",
    "\n",
    "def greeting(sentence):\n",
    "    for word in sentence.split():\n",
    "        if word.lower in GREETING_INPUTS:\n",
    "            return random.choice(GREETING_RESPONSES)"
   ]
  },
  {
   "cell_type": "code",
   "execution_count": 11,
   "metadata": {},
   "outputs": [],
   "source": [
    "def response(user_response):\n",
    "    robo_response = ''\n",
    "    \n",
    "    TfidfVec = TfidfVectorizer(tokenizer=LemNormalize, stop_words='english')\n",
    "    tfidf = TfidfVec.fit_transform(sent_tokens)\n",
    "    vals = cosine_similarity(tfidf[-1], tfidf)\n",
    "    idx = vals.argsort()[0][-2]\n",
    "    flat = vals.flatten()\n",
    "    flat.sort()\n",
    "    req_tfidf = flat[-2]\n",
    "    \n",
    "    if(req_tfidf == 0):\n",
    "        robo_response=robo_response + \"I am sorry! I don't understand you\"\n",
    "        return robo_response\n",
    "    else:\n",
    "        robo_response = robo_response+sent_tokens[idx]\n",
    "        return robo_response"
   ]
  },
  {
   "cell_type": "code",
   "execution_count": null,
   "metadata": {},
   "outputs": [
    {
     "name": "stdout",
     "output_type": "stream",
     "text": [
      "ROBO: My name is Robo. I will answer your queries about Chatbots. If you want to exit type Bye!\n",
      "What is a chabot\n"
     ]
    },
    {
     "name": "stderr",
     "output_type": "stream",
     "text": [
      "/home/elementary/anaconda3/lib/python3.7/site-packages/sklearn/feature_extraction/text.py:286: UserWarning: Your stop_words may be inconsistent with your preprocessing. Tokenizing the stop words generated tokens ['ha', 'le', 'u', 'wa'] not in stop_words.\n",
      "  sorted(inconsistent))\n"
     ]
    },
    {
     "name": "stdout",
     "output_type": "stream",
     "text": [
      "ROBO: I am sorry! I don't understand you\n",
      "What is a chatbot\n",
      "ROBO: [38]\n",
      "\n",
      "design\n",
      "the chatbot design is the process that defines the interaction between the user and the chatbot.\n"
     ]
    }
   ],
   "source": [
    "flag = True\n",
    "print(\"ROBO: My name is Robo. I will answer your queries about Chatbots. If you want to exit type Bye!\")\n",
    "\n",
    "while(flag==True):\n",
    "    user_response = input()\n",
    "    user_response = user_response.lower()\n",
    "    if(user_response!='bye'):\n",
    "        if(user_response=='thanks' or user_response=='thank you'):\n",
    "            flag = False\n",
    "            print(\"ROBO: You are welcome..\")\n",
    "        else:\n",
    "            if(greeting(user_response)!=None):\n",
    "                print(\"ROBO: \"+greeting(user_response))\n",
    "            else:\n",
    "                sent_tokens.append(user_response)\n",
    "\n",
    "        word_tokens = word_tokens + nltk.word_tokenize(user_response) \n",
    "        final_words=list(set(word_tokens))\n",
    "        print(\"ROBO: \", end = \"\")\n",
    "        print(response(user_response))\n",
    "        sent_tokens.remove(user_response)\n",
    "    else:\n",
    "        flag=False\n",
    "        print(\"ROBO: Bye! take care..\")\n"
   ]
  },
  {
   "cell_type": "code",
   "execution_count": null,
   "metadata": {},
   "outputs": [],
   "source": []
  },
  {
   "cell_type": "code",
   "execution_count": null,
   "metadata": {},
   "outputs": [],
   "source": []
  }
 ],
 "metadata": {
  "kernelspec": {
   "display_name": "Python 3",
   "language": "python",
   "name": "python3"
  },
  "language_info": {
   "codemirror_mode": {
    "name": "ipython",
    "version": 3
   },
   "file_extension": ".py",
   "mimetype": "text/x-python",
   "name": "python",
   "nbconvert_exporter": "python",
   "pygments_lexer": "ipython3",
   "version": "3.7.0"
  }
 },
 "nbformat": 4,
 "nbformat_minor": 2
}
